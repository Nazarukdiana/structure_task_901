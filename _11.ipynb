{
  "nbformat": 4,
  "nbformat_minor": 0,
  "metadata": {
    "colab": {
      "provenance": [],
      "authorship_tag": "ABX9TyP9lyiSjZEDL3WtS2QxIAFT",
      "include_colab_link": true
    },
    "kernelspec": {
      "name": "python3",
      "display_name": "Python 3"
    },
    "language_info": {
      "name": "python"
    }
  },
  "cells": [
    {
      "cell_type": "markdown",
      "metadata": {
        "id": "view-in-github",
        "colab_type": "text"
      },
      "source": [
        "<a href=\"https://colab.research.google.com/github/Nazarukdiana/structure_task_901/blob/main/_11.ipynb\" target=\"_parent\"><img src=\"https://colab.research.google.com/assets/colab-badge.svg\" alt=\"Open In Colab\"/></a>"
      ]
    },
    {
      "cell_type": "markdown",
      "source": [
        "# **ТЕМА: Функції в Python**\n",
        "\n",
        "\n",
        "\n",
        "**Хід роботи**"
      ],
      "metadata": {
        "id": "IhWHm0t7zsTi"
      }
    },
    {
      "cell_type": "markdown",
      "source": [
        "# **Завдання 1**\n",
        "Створити функції для введення, та функцію обчислення елементів масиву.\n",
        "Ввести та опрацювати два масиви цілих чисел.\n",
        "Суму квадратів парних чисел."
      ],
      "metadata": {
        "id": "eAW-eNAfzyKE"
      }
    },
    {
      "cell_type": "code",
      "source": [
        "def введення_масиву(назва):\n",
        "    розмір = int(input(f\"Скільки чисел буде в масиві {назва}? \"))\n",
        "    масив = []\n",
        "    for i in range(розмір):\n",
        "        число = int(input(f\"{назва}[{i}] = \"))\n",
        "        масив.append(число)\n",
        "    return масив\n",
        "\n",
        "def сума_квадратів_парних(масив):\n",
        "    сума = 0\n",
        "    for елемент in масив:\n",
        "        if елемент % 2 == 0:\n",
        "            сума += елемент**2\n",
        "    return сума\n",
        "\n",
        "масив1 = введення_масиву(\"масив1\")\n",
        "масив2 = введення_масиву(\"масив2\")\n",
        "\n",
        "сума1 = сума_квадратів_парних(масив1)\n",
        "сума2 = сума_квадратів_парних(масив2)\n",
        "\n",
        "print(\"\\nРезультати:\")\n",
        "print(f\"Сума квадратів парних чисел у масиві 1: {сума1}\")\n",
        "print(f\"Сума квадратів парних чисел у масиві 2: {сума2}\")"
      ],
      "metadata": {
        "colab": {
          "base_uri": "https://localhost:8080/"
        },
        "id": "QBr1OvyN0UkD",
        "outputId": "842e150b-867f-40ef-b2d6-afbae74b344f"
      },
      "execution_count": null,
      "outputs": [
        {
          "output_type": "stream",
          "name": "stdout",
          "text": [
            "Скільки чисел буде в масиві масив1? 3\n",
            "масив1[0] = 8\n",
            "масив1[1] = 21\n",
            "масив1[2] = 19\n",
            "Скільки чисел буде в масиві масив2? 9\n",
            "масив2[0] = 100\n",
            "масив2[1] = 37\n",
            "масив2[2] = 62\n",
            "масив2[3] = 11\n",
            "масив2[4] = 45\n",
            "масив2[5] = 24\n",
            "масив2[6] = 9\n",
            "масив2[7] = 20\n",
            "масив2[8] = 18\n",
            "\n",
            "Результати:\n",
            "Сума квадратів парних чисел у масиві 1: 64\n",
            "Сума квадратів парних чисел у масиві 2: 15144\n"
          ]
        }
      ]
    },
    {
      "cell_type": "markdown",
      "source": [
        "# **Завдання 2**\n",
        "Створити функції обчислення суми.\n",
        "![Знімок екрана 2025-04-29 121419.png](data:image/png;base64,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)"
      ],
      "metadata": {
        "id": "mAIN4HHB0rvy"
      }
    },
    {
      "cell_type": "code",
      "source": [
        "import math\n",
        "def обчислити_суму(x):\n",
        "    сума = 0\n",
        "    for k in range(2, 7):  # k від 2 до 6 включно\n",
        "        чисельник = math.sin(0.17 * x**k)\n",
        "        знаменник = 2 * k + x\n",
        "        сума += чисельник / знаменник\n",
        "    return сума\n",
        "\n",
        "x = float(input(\"Введіть значення x: \"))\n",
        "результат = обчислити_суму(x)\n",
        "print(f\"Результат суми: {результат:.5f}\")"
      ],
      "metadata": {
        "colab": {
          "base_uri": "https://localhost:8080/"
        },
        "id": "kYvf8vS50qgs",
        "outputId": "5032ecf0-bf34-40e8-8961-0d4ce96d357c"
      },
      "execution_count": null,
      "outputs": [
        {
          "output_type": "stream",
          "name": "stdout",
          "text": [
            "Введіть значення x: 6\n",
            "Результат суми: 0.02956\n"
          ]
        }
      ]
    },
    {
      "cell_type": "markdown",
      "source": [
        "https://miro.com/app/board/uXjVI7Kk2m4=/?share_link_id=932085999840"
      ],
      "metadata": {
        "id": "OLc2BOQkrWy6"
      }
    }
  ]
}